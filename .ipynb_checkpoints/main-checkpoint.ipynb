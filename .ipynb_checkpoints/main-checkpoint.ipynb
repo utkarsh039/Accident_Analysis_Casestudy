{
 "cells": [
  {
   "cell_type": "code",
   "execution_count": 1,
   "metadata": {},
   "outputs": [],
   "source": [
    "from pyspark.sql import SparkSession, Window\n",
    "from pyspark.sql.functions import desc, count, col, dense_rank\n",
    "from Accident import *"
   ]
  },
  {
   "cell_type": "code",
   "execution_count": 2,
   "metadata": {},
   "outputs": [],
   "source": [
    "spark = SparkSession.builder.master(\"local\").appName(\"USAccidentAnalysis\").getOrCreate()"
   ]
  },
  {
   "cell_type": "code",
   "execution_count": 3,
   "metadata": {},
   "outputs": [],
   "source": [
    "analysis_list = ['num_crashes_male', 'two_wheelers_crashes', 'num_crashes_female', 'top_5th_15th_make', 'top_ethnic_gp',\\\n",
    "            'top5_zip_crash', 'damage_above_4', 'top5_vehicle_makes']"
   ]
  },
  {
   "cell_type": "code",
   "execution_count": 5,
   "metadata": {},
   "outputs": [
    {
     "name": "stdout",
     "output_type": "stream",
     "text": [
      "Analysis  1  -  num_crashes_male(spark)\n",
      "Number of crashes(accidents) in which number of persons killed are male: 180\n",
      "-----------------------\n",
      "Analysis  2  -  two_wheelers_crashes(spark)\n",
      "Number of two wheelers which are booked for crashes: 757\n",
      "-----------------------\n",
      "Analysis  3  -  num_crashes_female(spark)\n",
      "Number of crashes(accidents) in which number of persons are female:  Texas\n",
      "-----------------------\n",
      "Analysis  4  -  top_5th_15th_make(spark)\n",
      "Top 5th to 15th VEH_MAKE_IDs that contribute to a largest number of injuries including death\n",
      "+-----------+\n",
      "|VEH_MAKE_ID|\n",
      "+-----------+\n",
      "|NISSAN     |\n",
      "|HONDA      |\n",
      "|GMC        |\n",
      "|HYUNDAI    |\n",
      "|KIA        |\n",
      "|JEEP       |\n",
      "|CHRYSLER   |\n",
      "|MAZDA      |\n",
      "|PONTIAC    |\n",
      "|VOLKSWAGEN |\n",
      "|LEXUS      |\n",
      "+-----------+\n",
      "\n",
      "-----------------------\n",
      "Analysis  5  -  top_ethnic_gp(spark)\n",
      " top ethnic user group of each unique body style\n",
      "+---------------------------------+-----------------+\n",
      "|VEH_BODY_STYL_ID                 |PRSN_ETHNICITY_ID|\n",
      "+---------------------------------+-----------------+\n",
      "|AMBULANCE                        |WHITE            |\n",
      "|BUS                              |BLACK            |\n",
      "|FARM EQUIPMENT                   |WHITE            |\n",
      "|FIRE TRUCK                       |WHITE            |\n",
      "|MOTORCYCLE                       |WHITE            |\n",
      "|NEV-NEIGHBORHOOD ELECTRIC VEHICLE|WHITE            |\n",
      "|NOT REPORTED                     |WHITE            |\n",
      "|OTHER  (EXPLAIN IN NARRATIVE)    |WHITE            |\n",
      "|PASSENGER CAR, 2-DOOR            |WHITE            |\n",
      "|PASSENGER CAR, 4-DOOR            |WHITE            |\n",
      "|PICKUP                           |WHITE            |\n",
      "|POLICE CAR/TRUCK                 |WHITE            |\n",
      "|POLICE MOTORCYCLE                |WHITE            |\n",
      "|SPORT UTILITY VEHICLE            |WHITE            |\n",
      "|TRUCK                            |WHITE            |\n",
      "|TRUCK TRACTOR                    |WHITE            |\n",
      "|VAN                              |WHITE            |\n",
      "|YELLOW SCHOOL BUS                |BLACK            |\n",
      "+---------------------------------+-----------------+\n",
      "\n",
      "-----------------------\n",
      "Analysis  6  -  top5_zip_crash(spark)\n",
      "Top 5 Zip Codes with highest number crashes with alcohols as the contributing factor to a crash\n",
      "+--------+-----+\n",
      "|DRVR_ZIP|count|\n",
      "+--------+-----+\n",
      "|76010   |75   |\n",
      "|78521   |61   |\n",
      "|75067   |54   |\n",
      "|78574   |47   |\n",
      "|75052   |43   |\n",
      "+--------+-----+\n",
      "\n",
      "-----------------------\n",
      "Analysis  7  -  damage_above_4(spark)\n",
      "Count of Crash IDs where No Damaged property was observed and Damage Level is above 4 and car avails Insurance:  7\n",
      "-----------------------\n",
      "Analysis  8  -  top5_vehicle_makes(spark)\n",
      "Top 5 Vehicle Makes where drivers are charged with speeding related offences, has licensed Drivers, uses top 10 used vehicle colours and has car licensed with the Top 25 states\n",
      "+-----------+-----+\n",
      "|VEH_MAKE_ID|count|\n",
      "+-----------+-----+\n",
      "|FORD       |19212|\n",
      "|CHEVROLET  |16864|\n",
      "|TOYOTA     |11826|\n",
      "|DODGE      |7945 |\n",
      "|NISSAN     |7332 |\n",
      "+-----------+-----+\n",
      "only showing top 5 rows\n",
      "\n",
      "-----------------------\n",
      "Spark Session Closed...\n"
     ]
    }
   ],
   "source": [
    "c = 1\n",
    "for analysis in analysis_list:\n",
    "    a = analysis + '(spark)'\n",
    "    print('Analysis ', c,' - ',a)\n",
    "    eval(a)\n",
    "    print('-----------------------')\n",
    "    c = c + 1\n",
    "spark.stop()\n",
    "print(\"Spark Session Closed...\")"
   ]
  },
  {
   "cell_type": "code",
   "execution_count": null,
   "metadata": {},
   "outputs": [],
   "source": []
  }
 ],
 "metadata": {
  "kernelspec": {
   "display_name": "Python 3",
   "language": "python",
   "name": "python3"
  },
  "language_info": {
   "codemirror_mode": {
    "name": "ipython",
    "version": 3
   },
   "file_extension": ".py",
   "mimetype": "text/x-python",
   "name": "python",
   "nbconvert_exporter": "python",
   "pygments_lexer": "ipython3",
   "version": "3.8.3"
  }
 },
 "nbformat": 4,
 "nbformat_minor": 4
}
